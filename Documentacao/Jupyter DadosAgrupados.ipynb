{
 "cells": [
  {
   "cell_type": "code",
   "execution_count": 39,
   "metadata": {},
   "outputs": [],
   "source": [
    "import pandas as pd\n",
    "\n",
    "pd.options.display.max_rows = 10"
   ]
  },
  {
   "cell_type": "code",
   "execution_count": 40,
   "metadata": {},
   "outputs": [
    {
     "name": "stdout",
     "output_type": "stream",
     "text": [
      "      animal  uniq_id  water_need\n",
      "0   elephant     1001         500\n",
      "1   elephant     1002         600\n",
      "2   elephant     1003         550\n",
      "3      tiger     1004         300\n",
      "4      tiger     1005         320\n",
      "..       ...      ...         ...\n",
      "17      lion     1018         500\n",
      "18      lion     1019         390\n",
      "19  kangaroo     1020         410\n",
      "20  kangaroo     1021         430\n",
      "21  kangaroo     1022         410\n",
      "\n",
      "[22 rows x 3 columns]\n"
     ]
    }
   ],
   "source": [
    "data  = pd.read_csv(\"untitled.csv\")\n",
    "print(data)"
   ]
  },
  {
   "cell_type": "code",
   "execution_count": 47,
   "metadata": {},
   "outputs": [
    {
     "name": "stdout",
     "output_type": "stream",
     "text": [
      "         water_need\n",
      "                std\n",
      "animal             \n",
      "elephant  50.000000\n",
      "kangaroo  11.547005\n",
      "lion      93.941471\n",
      "tiger     15.811388\n",
      "zebra     65.791880\n",
      "147.54924337582767\n"
     ]
    }
   ],
   "source": [
    "desvioporgrupo = data.groupby([\"animal\"]).agg({\"water_need\": [\"std\"]})\n",
    "print(desviogrupo)\n",
    "desvio = data.water_need.std()\n",
    "print(format(desvio))"
   ]
  },
  {
   "cell_type": "code",
   "execution_count": 42,
   "metadata": {},
   "outputs": [
    {
     "name": "stdout",
     "output_type": "stream",
     "text": [
      "347.72727272727275\n"
     ]
    }
   ],
   "source": [
    "media = data.water_need.mean()\n",
    "print(format(media))"
   ]
  },
  {
   "cell_type": "code",
   "execution_count": 43,
   "metadata": {},
   "outputs": [
    {
     "name": "stdout",
     "output_type": "stream",
     "text": [
      "0.06347228534905253\n"
     ]
    }
   ],
   "source": [
    "dispersao = data.water_need.skew()\n",
    "print(dispersao)"
   ]
  },
  {
   "cell_type": "code",
   "execution_count": 44,
   "metadata": {},
   "outputs": [
    {
     "name": "stdout",
     "output_type": "stream",
     "text": [
      "7650\n"
     ]
    }
   ],
   "source": [
    "soma = data.water_need.sum()\n",
    "print(soma)"
   ]
  },
  {
   "cell_type": "code",
   "execution_count": null,
   "metadata": {},
   "outputs": [],
   "source": []
  }
 ],
 "metadata": {
  "kernelspec": {
   "display_name": "Python 3",
   "language": "python",
   "name": "python3"
  },
  "language_info": {
   "codemirror_mode": {
    "name": "ipython",
    "version": 3
   },
   "file_extension": ".py",
   "mimetype": "text/x-python",
   "name": "python",
   "nbconvert_exporter": "python",
   "pygments_lexer": "ipython3",
   "version": "3.7.3"
  }
 },
 "nbformat": 4,
 "nbformat_minor": 4
}
